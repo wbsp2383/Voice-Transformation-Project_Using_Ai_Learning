{
 "cells": [
  {
   "cell_type": "markdown",
   "metadata": {},
   "source": [
    " # PyDub을 사용하여 음성 파일을 무음 구간을 기준으로 분리하고, 분리된 오디오 조각들을 최대 15초까지만 선택하여 WAV 파일로 저장하고, 마지막으로 무음을 제거하는 작업을 수행"
   ]
  },
  {
   "cell_type": "code",
   "execution_count": null,
   "metadata": {},
   "outputs": [],
   "source": [
    "pip install pydub"
   ]
  },
  {
   "cell_type": "code",
   "execution_count": null,
   "metadata": {},
   "outputs": [],
   "source": [
    "from pydub import AudioSegment\n",
    "from pydub.silence import split_on_silence\n",
    "import os\n",
    "import subprocess\n"
   ]
  },
  {
   "cell_type": "code",
   "execution_count": null,
   "metadata": {},
   "outputs": [],
   "source": [
    "# 입력 파일 경로와 출력 폴더를 설정\n",
    "\n",
    "input_file = 'input_file.mp3'\n",
    "output_folder = 'output_folder'"
   ]
  },
  {
   "cell_type": "code",
   "execution_count": null,
   "metadata": {},
   "outputs": [],
   "source": [
    "# 입력 파일을 PyDub으로 로드하고, 샘플링 레이트, 채널, 샘플 넓이를 설정합니다.\n",
    "\n",
    "sound = AudioSegment.from_file(input_file)\n",
    "sound = sound.set_frame_rate(44100).set_channels(1).set_sample_width(2)"
   ]
  },
  {
   "cell_type": "code",
   "execution_count": null,
   "metadata": {},
   "outputs": [],
   "source": [
    "# 이제, PyDub의 split_on_silence() 함수를 사용하여 입력된 음성 파일을 무음을 기준으로 자동으로 분리합니다.\n",
    "# 이 함수는 최소 무음 길이, 무음으로 간주되는 dBFS 값, 분리된 각 음성 조각들 간의 추가적인 무음 길이를 인자로 받습니다.\n",
    "\n",
    "audio_chunks = split_on_silence(sound,\n",
    "    min_silence_len=1000, # 최소 무음 길이 (밀리초 단위)\n",
    "    silence_thresh=-35, # 무음으로 간주되는 dBFS 값\n",
    "    keep_silence=500 # 분리된 오디오 조각들 간의 추가적인 무음 길이 (밀리초 단위)\n",
    ")"
   ]
  },
  {
   "cell_type": "code",
   "execution_count": null,
   "metadata": {},
   "outputs": [],
   "source": [
    "# 분리된 음성 조각들 중 최대 15초까지만 선택하여 WAV 파일로 저장합니다. \n",
    "# 이 작업은 각 음성의 길이가 너무 긴 경우 파일 크기가 너무 커지는 것을 방지하기 위한 것\n",
    "\n",
    "for i, chunk in enumerate(audio_chunks):\n",
    "    if len(chunk) > 15000:\n",
    "        chunk = chunk[:15000]\n",
    "    output_file = os.path.join(output_folder, f'chunk_{i}.wav')\n",
    "    chunk.export(output_file, format='wav')"
   ]
  },
  {
   "cell_type": "code",
   "execution_count": null,
   "metadata": {},
   "outputs": [],
   "source": [
    "# 무음제거 코드\n",
    "\n",
    "for filename in os.listdir(output_folder):\n",
    "    if filename.endswith('.wav'):\n",
    "        input_path = os.path.join(output_folder, filename)\n",
    "        output_path = os.path.join(output_folder, f'processed_{filename}')\n",
    "        subprocess.call(['ffmpeg', '-i', input_path, '-af', 'silenceremove=1:0:-50dB', '-y', output_path])\n",
    "        os.remove(input_path)"
   ]
  }
 ],
 "metadata": {
  "language_info": {
   "name": "python"
  }
 },
 "nbformat": 4,
 "nbformat_minor": 2
}
